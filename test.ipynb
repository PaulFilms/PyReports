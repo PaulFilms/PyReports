{
 "cells": [
  {
   "cell_type": "markdown",
   "id": "9dae2e67",
   "metadata": {},
   "source": [
    "# PDF.py"
   ]
  },
  {
   "cell_type": "code",
   "execution_count": null,
   "id": "d6c0bc88",
   "metadata": {},
   "outputs": [],
   "source": [
    "from reportlab.lib.units import cm, inch\n",
    "\n",
    "print(cm)    # ≈ 28.35 point\n",
    "print(inch)  # 72 point\n",
    "\n",
    "A4_horizontal = (cm*21, cm*29.7) # 210 x 297 mm\n",
    "print(A4_horizontal)"
   ]
  },
  {
   "cell_type": "markdown",
   "id": "70779a81",
   "metadata": {},
   "source": [
    "Conversión de unidades para imagenes"
   ]
  },
  {
   "cell_type": "markdown",
   "id": "de8334e6",
   "metadata": {},
   "source": [
    "| Concepto                  | Valor por defecto                              |\n",
    "| ------------------------- | ---------------------------------------------- |\n",
    "| Unidad interna del canvas | Puntos (pt)                                    |\n",
    "| DPI en canvas             | Siempre 72 pt = 1 inch                         |\n",
    "| DPI de imagen             | Se obtiene desde los metadatos de imagen (PIL) |\n",
    "| Ajuste de tamaño          | `px * 72 / dpi` para convertir a pt            |\n"
   ]
  },
  {
   "cell_type": "markdown",
   "id": "60219df0",
   "metadata": {},
   "source": [
    "tamaño de página (pagesizes)"
   ]
  },
  {
   "cell_type": "code",
   "execution_count": null,
   "id": "ea81a878",
   "metadata": {},
   "outputs": [],
   "source": [
    "from reportlab.lib import pagesizes\n",
    "\n",
    "print(pagesizes.A4)\n",
    "print(pagesizes.landscape(pagesizes.A4))\n",
    "print(pagesizes.portrait(pagesizes.A4))"
   ]
  },
  {
   "cell_type": "markdown",
   "id": "6f033904",
   "metadata": {},
   "source": [
    "Create .pdf file"
   ]
  },
  {
   "cell_type": "code",
   "execution_count": 1,
   "id": "022b4c34",
   "metadata": {},
   "outputs": [],
   "source": [
    "from pyreports.pdf import PDFREPORT, colors, Font\n",
    "\n",
    "my_pdf = PDFREPORT(\n",
    "    filePath=f'my_pdf_report.pdf',\n",
    "    docTitle='TEST'\n",
    ")\n",
    "\n",
    "x = my_pdf.get_x()\n",
    "y = my_pdf.get_y()\n",
    "\n",
    "_, y = my_pdf.wr_header1(y, 'Hola mundo !')\n",
    "_, y = my_pdf.wr_normal(y, 'Otro texto ...')\n",
    "_, y = my_pdf.wr_normal(y, 'Otro texto 2 ...')\n",
    "\n",
    "## Divider\n",
    "_, y = my_pdf.wr_divider(y, 1)\n",
    "\n",
    "## Centrado\n",
    "_, y = my_pdf.wr_header1(y, '[ Hola mundo centrado ]', centered=True)\n",
    "_, y = my_pdf.wr_normal(y, '[ Otro texto ... ]', centered=True)\n",
    "_, y = my_pdf.wr_normal(y, '[ Otro texto 2 ... ]', centered=True)\n",
    "_, y = my_pdf.wr_normal(y, '[ Otro texto mucho mas largooooooooo ]', centered=True)\n",
    "_, y = my_pdf.wr_header1(y, '[ 2nd TITULO centrado diferenteeeee ]', centered=True)\n",
    "\n",
    "## Divider\n",
    "_, y = my_pdf.wr_divider(y, 1)\n",
    "_, y = my_pdf.wr_divider(y, 1)\n",
    "_, y = my_pdf.wr_normal(y, 'Otro texto ...')\n",
    "# _, y = my_pdf.wr_normal(y, '❤️') # NO se pueden usar emoticonos como texto\n",
    "\n",
    "## Free text\n",
    "_, y = my_pdf.write(x=100, y=y-30, text='... TEXTO ROJO, Cursiva y Mas grande', font_name=Font.fields.italic_bold, font_size=18, color=colors.red)\n",
    "\n",
    "## Imagen\n",
    "img_path = r'data\\my_img.png'\n",
    "my_pdf.wr_image(\n",
    "    x=my_pdf.get_x(True),\n",
    "    y=my_pdf.get_y() - 10,\n",
    "    img_path=img_path\n",
    ")\n",
    "\n",
    "my_pdf.showPage()\n",
    "my_pdf.save()"
   ]
  },
  {
   "cell_type": "markdown",
   "id": "d8b2426c",
   "metadata": {},
   "source": [
    "# XLSX.py"
   ]
  },
  {
   "cell_type": "markdown",
   "id": "1740e24d",
   "metadata": {},
   "source": []
  }
 ],
 "metadata": {
  "kernelspec": {
   "display_name": ".venv",
   "language": "python",
   "name": "python3"
  },
  "language_info": {
   "codemirror_mode": {
    "name": "ipython",
    "version": 3
   },
   "file_extension": ".py",
   "mimetype": "text/x-python",
   "name": "python",
   "nbconvert_exporter": "python",
   "pygments_lexer": "ipython3",
   "version": "3.13.5"
  }
 },
 "nbformat": 4,
 "nbformat_minor": 5
}
