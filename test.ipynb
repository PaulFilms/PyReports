{
 "cells": [
  {
   "cell_type": "code",
   "execution_count": 3,
   "metadata": {},
   "outputs": [
    {
     "name": "stdout",
     "output_type": "stream",
     "text": [
      "=B:B\n"
     ]
    }
   ],
   "source": [
    "from pyreports.xlsx import get_formula\n",
    "from enum import Enum\n",
    "\n",
    "class cols(Enum):\n",
    "    hola = 2\n",
    "    mundo = 6\n",
    "\n",
    "formula = '''=IF(<<mundo>><<ROW>>=2,\"Pass\",\"Fail\")'''\n",
    "formula = '''=<<hola>>:<<hola>>'''\n",
    "f = get_formula(formula, 5, cols)\n",
    "print(f)"
   ]
  },
  {
   "cell_type": "code",
   "execution_count": 14,
   "metadata": {},
   "outputs": [
    {
     "name": "stdout",
     "output_type": "stream",
     "text": [
      "330 721\n",
      "33.0 72.1\n"
     ]
    }
   ],
   "source": [
    "from openpyxl.drawing.image import Image\n",
    "from PIL import Image as PILImage\n",
    "\n",
    "img_path = r'C:\\Users\\GONZA_PA\\Documents\\_PRIVATE\\_PROGRAMMING\\FLEXICAL_WEB\\resources\\R&S Logo - Complete.png'\n",
    "img_path = r'C:\\Users\\GONZA_PA\\Documents\\_PRIVATE\\_PROGRAMMING\\FLEXICAL_WEB\\resources\\Results.jpg'\n",
    "# img_path = r'C:\\Users\\GONZA_PA\\Documents\\_PRIVATE\\_PROGRAMMING\\FLEXICAL_WEB\\resources\\manufacturers.svg'\n",
    "scale = 10\n",
    "\n",
    "img = Image(img_path)\n",
    "# img = PILImage.open(img_path)\n",
    "\n",
    "he = img.height\n",
    "wi = img.width\n",
    "print(he, wi)\n",
    "\n",
    "img.height = he * scale / 100\n",
    "img.width = wi * scale / 100\n",
    "\n",
    "he = img.height\n",
    "wi = img.width\n",
    "print(he, wi)\n",
    "\n"
   ]
  }
 ],
 "metadata": {
  "kernelspec": {
   "display_name": ".venv",
   "language": "python",
   "name": "python3"
  },
  "language_info": {
   "codemirror_mode": {
    "name": "ipython",
    "version": 3
   },
   "file_extension": ".py",
   "mimetype": "text/x-python",
   "name": "python",
   "nbconvert_exporter": "python",
   "pygments_lexer": "ipython3",
   "version": "3.12.5"
  }
 },
 "nbformat": 4,
 "nbformat_minor": 2
}
