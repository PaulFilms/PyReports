{
 "cells": [
  {
   "cell_type": "markdown",
   "id": "9dae2e67",
   "metadata": {},
   "source": [
    "# PDF.py"
   ]
  },
  {
   "cell_type": "code",
   "execution_count": null,
   "id": "d6c0bc88",
   "metadata": {},
   "outputs": [],
   "source": [
    "from reportlab.lib.units import cm, inch\n",
    "\n",
    "print(cm)    # ≈ 28.35 point\n",
    "print(inch)  # 72 point\n",
    "\n",
    "A4_horizontal = (cm*21, cm*29.7) # 210 x 297 mm\n",
    "print(A4_horizontal)"
   ]
  },
  {
   "cell_type": "markdown",
   "id": "70779a81",
   "metadata": {},
   "source": [
    "Conversión de unidades para imagenes"
   ]
  },
  {
   "cell_type": "markdown",
   "id": "de8334e6",
   "metadata": {},
   "source": [
    "| Concepto                  | Valor por defecto                              |\n",
    "| ------------------------- | ---------------------------------------------- |\n",
    "| Unidad interna del canvas | Puntos (pt)                                    |\n",
    "| DPI en canvas             | Siempre 72 pt = 1 inch                         |\n",
    "| DPI de imagen             | Se obtiene desde los metadatos de imagen (PIL) |\n",
    "| Ajuste de tamaño          | `px * 72 / dpi` para convertir a pt            |\n"
   ]
  },
  {
   "cell_type": "markdown",
   "id": "60219df0",
   "metadata": {},
   "source": [
    "tamaño de página (pagesizes)"
   ]
  },
  {
   "cell_type": "code",
   "execution_count": null,
   "id": "ea81a878",
   "metadata": {},
   "outputs": [],
   "source": [
    "from reportlab.lib import pagesizes\n",
    "\n",
    "print(pagesizes.A4)\n",
    "print(pagesizes.landscape(pagesizes.A4))\n",
    "print(pagesizes.portrait(pagesizes.A4))"
   ]
  },
  {
   "cell_type": "markdown",
   "id": "6f033904",
   "metadata": {},
   "source": [
    "Create .pdf file"
   ]
  },
  {
   "cell_type": "code",
   "execution_count": 23,
   "id": "022b4c34",
   "metadata": {},
   "outputs": [],
   "source": [
    "from pyreports.pdf import PDFREPORT\n",
    "\n",
    "my_pdf = PDFREPORT(\n",
    "    filePath=f'my_pdf_report.pdf',\n",
    "    docTitle='TEST'\n",
    ")\n",
    "\n",
    "x = my_pdf.get_x()\n",
    "y = my_pdf.get_y()\n",
    "\n",
    "_, y = my_pdf.wr_header1(y, 'Hola mundo !')\n",
    "_, y = my_pdf.wr_normal(y, 'Otro texto ...')\n",
    "_, y = my_pdf.wr_normal(y, 'Otro texto 2 ...')\n",
    "\n",
    "## Divider\n",
    "_, y = my_pdf.wr_divider(y, 1)\n",
    "\n",
    "## Centrado\n",
    "_, y = my_pdf.wr_header1(y, '[ Hola mundo centrado ]', centered=True)\n",
    "_, y = my_pdf.wr_normal(y, '[ Otro texto ... ]', centered=True)\n",
    "_, y = my_pdf.wr_normal(y, '[ Otro texto 2 ... ]', centered=True)\n",
    "_, y = my_pdf.wr_normal(y, '[ Otro texto mucho mas largooooooooo ]', centered=True)\n",
    "_, y = my_pdf.wr_header1(y, '[ 2nd TITULO centrado diferenteeeee ]', centered=True)\n",
    "\n",
    "## Divider\n",
    "_, y = my_pdf.wr_divider(y, 1)\n",
    "_, y = my_pdf.wr_divider(y, 1)\n",
    "_, y = my_pdf.wr_normal(y, 'Otro texto ...')\n",
    "\n",
    "## Imagen \n",
    "import os\n",
    "from reportlab.lib.units import cm, inch\n",
    "from reportlab.lib.utils import ImageReader\n",
    "from PIL import Image\n",
    "from io import BytesIO\n",
    "\n",
    "# img_path = r'C:\\Users\\pablo.gonzalezp\\Desktop\\digi-logo.png'\n",
    "# img_path = r'C:\\Users\\pablo.gonzalezp\\Desktop\\logo-digi-1872531646.png'\n",
    "img_path = r'C:\\Users\\pablo.gonzalezp\\Desktop\\logo-digi-mini.png'\n",
    "\n",
    "if os.path.exists(img_path):\n",
    "    # print(img_path)\n",
    "    img = Image.open(img_path)\n",
    "    # print(img.size)\n",
    "    dpi = img.info.get('dpi', (72, 72))\n",
    "    # print(dpi)\n",
    "    w_px, h_px = img.size\n",
    "    w_pt = w_px * (72 / dpi[0])\n",
    "    h_pt = h_px * (72 / dpi[1])\n",
    "    img_percent = 50\n",
    "    # reader = ImageReader(img)\n",
    "    if img.mode not in (\"RGB\", \"RGBA\"):\n",
    "        img = img.convert(\"RGB\")\n",
    "\n",
    "    # # Crea un buffer en memoria con formato PNG\n",
    "    buf = BytesIO()\n",
    "    img.save(buf, format=\"PNG\")\n",
    "    buf.seek(0)\n",
    "    reader = ImageReader(buf)\n",
    "\n",
    "    my_pdf.PDF.drawImage(\n",
    "        reader, \n",
    "        x=my_pdf.get_x(True), \n",
    "        y=my_pdf.get_y() - h_pt, \n",
    "        width=img.size[0]*img_percent/100, height=img.size[1]*img_percent/100,\n",
    "        # width=img.width*0.2646*cm, height=img.height*0.2646*cm, \n",
    "        mask='auto'\n",
    "    )\n",
    "\n",
    "my_pdf.showPage()\n",
    "my_pdf.save()"
   ]
  },
  {
   "cell_type": "markdown",
   "id": "d8b2426c",
   "metadata": {},
   "source": [
    "# XLSX.py"
   ]
  },
  {
   "cell_type": "markdown",
   "id": "1740e24d",
   "metadata": {},
   "source": []
  }
 ],
 "metadata": {
  "kernelspec": {
   "display_name": ".venv",
   "language": "python",
   "name": "python3"
  },
  "language_info": {
   "codemirror_mode": {
    "name": "ipython",
    "version": 3
   },
   "file_extension": ".py",
   "mimetype": "text/x-python",
   "name": "python",
   "nbconvert_exporter": "python",
   "pygments_lexer": "ipython3",
   "version": "3.13.5"
  }
 },
 "nbformat": 4,
 "nbformat_minor": 5
}
