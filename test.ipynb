{
 "cells": [
  {
   "cell_type": "code",
   "execution_count": 1,
   "metadata": {},
   "outputs": [],
   "source": [
    "import os\n",
    "from pyreports.xlsx import *\n",
    "\n",
    "xls = XLSREPORT(os.path.join(os.getcwd(),'test'))\n",
    "xls.wr(1,1,'test')\n",
    "xls.wr_headers(2,2,['1', '2', '3'])\n",
    "xls.wr_sci_number(3,3,0.12345678)\n",
    "xls.low_border(4, 1, 10)\n",
    "xls.col_autofit()\n",
    "xls.sheet_head(2)\n",
    "xls.page_break(3)\n",
    "xls.page_break(6)\n",
    "xls.save()\n",
    "xls.close()"
   ]
  }
 ],
 "metadata": {
  "kernelspec": {
   "display_name": ".venv",
   "language": "python",
   "name": "python3"
  },
  "language_info": {
   "codemirror_mode": {
    "name": "ipython",
    "version": 3
   },
   "file_extension": ".py",
   "mimetype": "text/x-python",
   "name": "python",
   "nbconvert_exporter": "python",
   "pygments_lexer": "ipython3",
   "version": "3.12.5"
  }
 },
 "nbformat": 4,
 "nbformat_minor": 2
}
